{
 "cells": [
  {
   "cell_type": "markdown",
   "metadata": {},
   "source": [
    "- CAR RENTAL"
   ]
  },
  {
   "cell_type": "markdown",
   "metadata": {},
   "source": [
    "- CarRental- \n",
    "Vehicle Class\n",
    "Write a class Vehicle. A Vehicle has an instance variable to store the color of the Vehicle. The color can be retrieved with the getColor() method. The toString() method returns a String like This vehicle is red, depending on the actual color.\n",
    "- Car Class\n",
    "Write a class Car that extends the class Vehicle. A car has an instance variable of type boolean to define whether it has winter tires or not (default value: false). The method toString() of the class Car prints the same message as the method of the class Vehicle, but it does also add another line with the content: has winter tires: true/false, depending on the actual value.\n",
    "- Truck Class\n",
    "Write a class Truck that extends the class Vehicle. A truck has an instance variable of type boolean to define whether it has a trailer or not (default value: false). The method toString() of the class Truck prints the same message as the method of the class Vehicle, but it does also add another line with the content: has trailer: true/false, depending on the actual value.\n",
    "- Garage Class\n",
    "Write a class Garage that has a Vehicle as an instance variable. This garage can be used by Cars and Trucks. Define a method setVehicle(Vehicle parked) to park a vehicle in the garage. Provide a method toString() to print a message Description of the parked vehicle ... followed by the description of the vehicle that is in the garage at this moment.\n",
    "- GarageTester Class\n",
    "Write a class GarageTester with a method getExample() (see template). In this method, create an object of the Truck class (color is black, and the truck has no trailer). Create an object of the Garage class. Put the Truck into the Garage.\n",
    "Customer Class\n",
    "Write a class Customer that contains a name and an address of a customer.\n"
   ]
  },
  {
   "cell_type": "code",
   "execution_count": 4,
   "metadata": {},
   "outputs": [
    {
     "name": "stdout",
     "output_type": "stream",
     "text": [
      "Vehicle color is red\n"
     ]
    }
   ],
   "source": [
    "#Car Rental\n",
    "# 1 Class vehichle\n",
    "class vehicle:\n",
    "    def __init__(self,color):\n",
    "        self.color = color\n",
    "    def get_color(self):\n",
    "        return self.color\n",
    "    def to_string(self):   #to_string method will return the color of the vehicle after calling self.color\n",
    "         return f\"Vehicle color is {self.color}\"\n",
    "       \n",
    "#The implemetation to check if it executes\n",
    "Vehicle_one = vehicle(\"red\")\n",
    "print(Vehicle_one.to_string())  \n"
   ]
  },
  {
   "cell_type": "code",
   "execution_count": 5,
   "metadata": {},
   "outputs": [
    {
     "name": "stdout",
     "output_type": "stream",
     "text": [
      " Vehicle color is blue \n",
      " Vehicle has winter tires:True \n"
     ]
    }
   ],
   "source": [
    "# 2 class Car\n",
    "class Car (vehicle):\n",
    "    def __init__(self, color, winter_tires=False):\n",
    "        self.winter_tires = winter_tires\n",
    "        super().__init__(color)   #calling the constructor of the parent class (vehicle) which is\" __init__(color)\" to set the color\n",
    "    def to_string (self):\n",
    "        # vehicle_color = super().to_string()\n",
    "        # winter_tire_info = f\"vehicle has winter tires: {self.winter_tires}\"\n",
    "        # return f\"{vehicle_color}\\n{winter_tire_info}\"  is one way of doing it but beacuse i want to use less lines of code\n",
    "        return f\" {super().to_string()} \\n Vehicle has winter tires:{self.winter_tires} \"\n",
    "    \n",
    "#The implemetation to check if it executes\n",
    "car1 = Car(\"blue\", True)\n",
    "print(car1.to_string())\n",
    "        "
   ]
  },
  {
   "cell_type": "code",
   "execution_count": 6,
   "metadata": {},
   "outputs": [
    {
     "name": "stdout",
     "output_type": "stream",
     "text": [
      " Vehicle color is red\n",
      " Truck has a trailer: False\n"
     ]
    }
   ],
   "source": [
    "#class truck\n",
    "class Truck(vehicle):\n",
    "    def __init__(self,color, trailer=False):\n",
    "        super().__init__(color)\n",
    "        self.trailer = trailer\n",
    "    def to_string(self):\n",
    "        return f\" {super().to_string()}\\n Truck has a trailer: {self.trailer}\"\n",
    "# tThe implementation\n",
    "truck1 = Truck(\"red\", )\n",
    "print(truck1.to_string())    \n",
    "    "
   ]
  },
  {
   "cell_type": "code",
   "execution_count": 7,
   "metadata": {},
   "outputs": [
    {
     "name": "stdout",
     "output_type": "stream",
     "text": [
      "Description of the vehicle:\n",
      " Vehicle color is blue \n",
      " Vehicle has winter tires:True \n",
      "Garage is empty.\n",
      "Description of the vehicle:\n",
      " Vehicle color is red\n",
      " Truck has a trailer: True\n"
     ]
    }
   ],
   "source": [
    "class Garage:\n",
    "    def __init__(self):\n",
    "        self.parked_vehicle = None\n",
    "\n",
    "    def set_vehicle(self, vehicle):\n",
    "        self.parked_vehicle = vehicle\n",
    "\n",
    "    def to_string(self):\n",
    "        return f\"Description of the vehicle:\\n{self.parked_vehicle.to_string()}\" if self.parked_vehicle else \"Garage is empty.\"\n",
    "\n",
    "#The implementation\n",
    "garage = Garage()\n",
    "\n",
    "car1 = Car(\"blue\", True)\n",
    "garage.set_vehicle(car1)\n",
    "print(garage.to_string())\n",
    "\n",
    "garage.set_vehicle(None)\n",
    "print(garage.to_string())\n",
    "\n",
    "truck1 = Truck(\"red\", True)\n",
    "garage.set_vehicle(truck1)\n",
    "print(garage.to_string())"
   ]
  },
  {
   "cell_type": "code",
   "execution_count": 8,
   "metadata": {},
   "outputs": [
    {
     "name": "stdout",
     "output_type": "stream",
     "text": [
      "Description of the vehicle:\n",
      " Vehicle color is black\n",
      " Truck has a trailer: False\n"
     ]
    }
   ],
   "source": [
    "#class GarageTester\n",
    "class GarageTester:\n",
    "    def getExample(self):\n",
    "        truck = Truck(\"black\", trailer=False)\n",
    "        garage = Garage()\n",
    "        garage.set_vehicle(truck)\n",
    "        # Print the description of the vehicle in the garage\n",
    "        print(garage.to_string())\n",
    "# Implementation\n",
    "tester = GarageTester()\n",
    "tester.getExample()"
   ]
  },
  {
   "cell_type": "code",
   "execution_count": 9,
   "metadata": {},
   "outputs": [
    {
     "name": "stdout",
     "output_type": "stream",
     "text": [
      "Customer Name: Obba Mark Calvin\n",
      "Customer Address: Kissasi-Bukoto road\n"
     ]
    }
   ],
   "source": [
    "#class customer\n",
    "class Customer:\n",
    "    def __init__(self, name, address):\n",
    "        self.name = name\n",
    "        self.address = address\n",
    "\n",
    "    def to_string(self):\n",
    "        return f\"Customer Name: {self.name}\\nCustomer Address: {self.address}\"\n",
    "\n",
    "# Impementation\n",
    "customer1 = Customer(\"Obba Mark Calvin\", \"Kissasi-Bukoto road\")\n",
    "print(customer1.to_string())"
   ]
  }
 ],
 "metadata": {
  "kernelspec": {
   "display_name": "Python 3",
   "language": "python",
   "name": "python3"
  },
  "language_info": {
   "codemirror_mode": {
    "name": "ipython",
    "version": 3
   },
   "file_extension": ".py",
   "mimetype": "text/x-python",
   "name": "python",
   "nbconvert_exporter": "python",
   "pygments_lexer": "ipython3",
   "version": "3.12.3"
  }
 },
 "nbformat": 4,
 "nbformat_minor": 2
}
