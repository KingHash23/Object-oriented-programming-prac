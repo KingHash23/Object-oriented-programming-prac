{
 "cells": [
  {
   "cell_type": "markdown",
   "metadata": {},
   "source": [
    "# **Object Oriented Programming (OOPs) Concepts in Python**\n",
    "\n",
    "In Python, OOPs stands for Object-Oriented Programming.\n",
    "\n",
    " It is a programming paradigm that focuses on the use of objects and classes to create programs.\n",
    " \n",
    "  An object is a group of interrelated variables and functions. \n",
    "  \n",
    "  These variables are often referred to as properties of the object, and functions are referred to as the behavior of the objects. \n",
    "  \n",
    "  These objects provide a better and clear structure for the program. Main principles of OOPs in Python are abstraction, encapsulation, inheritance, and polymorphism\n",
    "\n",
    "  # Class\n",
    "\n",
    "  A class is a collection of objects\n",
    "\n",
    "```python\n",
    "  class class_name:\n",
    "    class body\n",
    "```\n",
    "\n",
    "We define a new class with the keyword “class” following the class_name and colon. And we consider everything you write under this after using indentation as its body. \n",
    "\n",
    "# **Objects and Object Instantiation**\n",
    "\n",
    "When we define a class, only the description or a blueprint of the object is created.\n",
    "\n",
    " There is no memory allocation until we create its object. The objector instance contains real data or information.\n",
    "\n",
    "Instantiation is nothing but creating a new object/instance of a class\n",
    "\n",
    "```python\n",
    "obj1 = Car()\n",
    "```\n",
    "\n",
    "# **Class Constructor**\n",
    "\n",
    " The job of the class constructor is to assign the values to the data members of the class when an object of the class is created.\n",
    "\n",
    "\n",
    "```python\n",
    " class Car:\n",
    "    def __init__(self, name, color):\n",
    "        self.name = name\n",
    "        self.color = color\n",
    "```\n",
    "\n",
    "the properties of the car or any other object must be inside a method that we call __init__( ). \n",
    "\n",
    "This __init__() method is also known as the **constructor method**. We call a constructor method whenever an object of the class is constructed.\n",
    "\n",
    "\n",
    "the __init__() method. So, the first parameter of this method has to be self. Then only will the rest of the parameters come.\n",
    "\n",
    "The two statements inside the constructor method are –\n",
    "\n",
    "```python\n",
    "self.name_f = name\n",
    "self.color5= color:\n",
    "```\n",
    "This will create new attributes, namely name and color, and then assign the value of the respective parameters to them. \n",
    "\n",
    "The **“self”** keyword represents the instance of the class. \n",
    "\n",
    "By using the “self” keyword, we can access the attributes and methods of the class. It is useful in method definitions and in variable initialization.\n",
    "\n",
    " The “self” is explicitly used every time we define a method.\n",
    "\n",
    " You can also create attributes **outside** of this __init__() method. \n",
    " \n",
    " But those attributes will be universal to the whole class, and you will have to assign a value to them.\n",
    "\n",
    "\n",
    "```python\n",
    " class Car:\n",
    "    car_type = \"Sedan\"                 #class attribute\n",
    "    def __init__(self, name, color):\n",
    "        self.name = name               #instance attribute   \n",
    "        self.color = color             #instance attribute\n",
    "```\n",
    "\n",
    "\n",
    "Here, Instance attributes refer to the attributes inside the constructor method, i.e., self.name and self.color. And Class attributes refer to the attributes outside the constructor method, i.e., car_type.\n",
    "\n",
    "# **Class Methods**\n",
    "\n",
    "So far, we’ve added the properties of the car. \n",
    "\n",
    " Methods are the functions we use to describe the behavior of objects.\n",
    "\n",
    "They are also defined inside a class.\n"
   ]
  },
  {
   "cell_type": "code",
   "execution_count": 5,
   "metadata": {},
   "outputs": [
    {
     "name": "stdout",
     "output_type": "stream",
     "text": [
      "The Honda City runs at the maximum speed of 3456km/hr\n",
      "The Honda City car gives the mileage of 24.1km/l\n",
      "The Honda City runs at the maximum speed of 150km/hr\n"
     ]
    }
   ],
   "source": [
    "#You can play around with the properties of the car and also add and remove some properties in the code block down below\n",
    "class Car:   \n",
    "    car_type = \"Sedan\" \n",
    "\n",
    "    def __init__(self, name, mileage):\n",
    "        self.name = name \n",
    "        self.mileage = mileage \n",
    "\n",
    "    def description(self):                 \n",
    "        return f\"The {self.name} car gives the mileage of {self.mileage}km/l\"\n",
    "\n",
    "    def max_speed(self, speed):\n",
    "        \n",
    "        return f\"The {self.name} runs at the maximum speed of {speed}km/hr\"\n",
    "\n",
    "obj2 = Car(\"Honda City\",24.1)\n",
    "\n",
    "obj3 = Car(\"v8\",84.1)\n",
    "\n",
    "obj4 = Car(\"markx\",64.1)\n",
    "\n",
    "obj5 = Car(\"subaru\",26.1)\n",
    "\n",
    "print(obj2.max_speed(3456))\n",
    "\n",
    "\n",
    "print(obj2.description())\n",
    "print(obj2.max_speed(150))\n"
   ]
  },
  {
   "cell_type": "markdown",
   "metadata": {},
   "source": [
    "# **Creating more than one object of a class**"
   ]
  },
  {
   "cell_type": "code",
   "execution_count": 6,
   "metadata": {},
   "outputs": [
    {
     "name": "stdout",
     "output_type": "stream",
     "text": [
      "The Honda City runs at the maximum speed of 150km/hr,mu milage is  21.4\n"
     ]
    }
   ],
   "source": [
    "class Car:\n",
    "      \n",
    "    def __init__(self, name, mileage):\n",
    "        self.name = name \n",
    "        self.mileage = mileage \n",
    "\n",
    "    def max_speed(self, speed):\n",
    "        return f\"The {self.name} runs at the maximum speed of {speed}km/hr,mu milage is  {self.mileage}\"\n",
    "    \n",
    "Honda = Car(\"Honda City\",21.4)\n",
    "print(Honda.max_speed(150))\n",
    "\n",
    "# Skoda = Car(\"Skoda Octavia\",13)\n",
    "# print(Skoda.max_speed(210,5678))"
   ]
  },
  {
   "cell_type": "code",
   "execution_count": 7,
   "metadata": {},
   "outputs": [
    {
     "ename": "AttributeError",
     "evalue": "'student' object has no attribute 'studentName'",
     "output_type": "error",
     "traceback": [
      "\u001b[1;31m---------------------------------------------------------------------------\u001b[0m",
      "\u001b[1;31mAttributeError\u001b[0m                            Traceback (most recent call last)",
      "Cell \u001b[1;32mIn[7], line 24\u001b[0m\n\u001b[0;32m     20\u001b[0m         \u001b[38;5;28mprint\u001b[39m(\u001b[38;5;124mf\u001b[39m\u001b[38;5;124m\"\u001b[39m\u001b[38;5;124mstudent\u001b[39m\u001b[38;5;132;01m{\u001b[39;00m\u001b[38;5;250m \u001b[39m\u001b[38;5;28mself\u001b[39m\u001b[38;5;241m.\u001b[39mstudentName\u001b[38;5;132;01m}\u001b[39;00m\u001b[38;5;124m has a total of \u001b[39m\u001b[38;5;132;01m{\u001b[39;00mmarks\u001b[38;5;132;01m}\u001b[39;00m\u001b[38;5;124m\"\u001b[39m) \n\u001b[0;32m     23\u001b[0m Hellen \u001b[38;5;241m=\u001b[39m student(\u001b[38;5;241m21\u001b[39m,\u001b[38;5;241m45\u001b[39m,\u001b[38;5;124m\"\u001b[39m\u001b[38;5;124mfemale\u001b[39m\u001b[38;5;124m\"\u001b[39m,\u001b[38;5;124m\"\u001b[39m\u001b[38;5;124mHellen\u001b[39m\u001b[38;5;124m\"\u001b[39m)\n\u001b[1;32m---> 24\u001b[0m \u001b[38;5;28mprint\u001b[39m(\u001b[43mHellen\u001b[49m\u001b[38;5;241;43m.\u001b[39;49m\u001b[43mstudentName\u001b[49m,)\n\u001b[0;32m     26\u001b[0m \u001b[38;5;66;03m# hellensBio = Hellen.getUniversity(\"Uganda christian university\")\u001b[39;00m\n\u001b[0;32m     27\u001b[0m \u001b[38;5;66;03m# print(hellensBio)\u001b[39;00m\n\u001b[0;32m     29\u001b[0m hellensMarks \u001b[38;5;241m=\u001b[39m Hellen\u001b[38;5;241m.\u001b[39mcalculateStudentMarks()\n",
      "\u001b[1;31mAttributeError\u001b[0m: 'student' object has no attribute 'studentName'"
     ]
    }
   ],
   "source": [
    "class student:\n",
    "    def __init__(self,age,grade,gender,name):\n",
    "        self.studentAge = age\n",
    "        self.studentGrade = grade\n",
    "        self.studentGender = gender\n",
    "        self._studentNamestudentName =name\n",
    "    \n",
    "    def getUniversity(self,universityName):\n",
    "        return f\"student {self.studentName} is {self.studentAge} years , {self.studentGender} and  studying at {universityName}\"\n",
    "\n",
    "    def calculateStudentMarks(self):\n",
    "        print(\"enter a mark\")\n",
    "        marks = int(input())\n",
    "\n",
    "        while(marks != 20):\n",
    "            newmark = int(input())\n",
    "            marks += newmark\n",
    "            print(marks)\n",
    "\n",
    "        print(f\"student{ self.studentName} has a total of {marks}\") \n",
    "\n",
    "\n",
    "Hellen = student(21,45,\"female\",\"Hellen\")\n",
    "print(Hellen.studentName,)\n",
    "\n",
    "# hellensBio = Hellen.getUniversity(\"Uganda christian university\")\n",
    "# print(hellensBio)\n",
    "\n",
    "hellensMarks = Hellen.calculateStudentMarks()\n",
    "\n",
    "\n",
    "\n",
    "\n",
    "\n"
   ]
  },
  {
   "cell_type": "markdown",
   "metadata": {},
   "source": [
    "# **Python Inheritance**\n",
    "\n",
    "\n",
    "Inheritance is a way of creating a new class for using details of an existing class without modifying it.\n",
    "\n",
    "The newly formed class is a derived class (or child class). Similarly, the existing class is a base class (or parent class).\n",
    "\n",
    "Example: Use of Inheritance in Python"
   ]
  },
  {
   "cell_type": "code",
   "execution_count": null,
   "metadata": {},
   "outputs": [],
   "source": []
  },
  {
   "cell_type": "code",
   "execution_count": 4,
   "metadata": {},
   "outputs": [
    {
     "name": "stdout",
     "output_type": "stream",
     "text": [
      "I can bark! Woof woof!!\n",
      "None\n",
      "I can eat!\n",
      "None\n",
      "I can sleep!\n",
      "None\n"
     ]
    }
   ],
   "source": [
    "# base class\n",
    "class Animal:\n",
    "    \n",
    "    def eat(self):\n",
    "        print( \"I can eat!\")\n",
    "    \n",
    "    def sleep(self):\n",
    "        print(\"I can sleep!\")\n",
    "\n",
    "# derived class\n",
    "class Dog(Animal):\n",
    "    \n",
    "    def bark(self):\n",
    "        print(\"I can bark! Woof woof!!\")\n",
    "\n",
    "# Create object of the Dog class\n",
    "dog1 = Dog()\n",
    "\n",
    "print(dog1.bark())\n",
    "print(dog1.eat())\n",
    "print(dog1.sleep())\n",
    "\n",
    "# # Calling members of the base class\n",
    "# dog1.eat()\n",
    "# dog1.sleep()\n",
    "\n",
    "# # Calling member of the derived class\n",
    "# dog1.bark();"
   ]
  },
  {
   "cell_type": "code",
   "execution_count": 5,
   "metadata": {},
   "outputs": [
    {
     "name": "stdout",
     "output_type": "stream",
     "text": [
      "The BMW 7-series car gives the mileage of 39.53km/l\n",
      "The Audi A8 L car gives the mileage of 14km/l\n",
      "This is the description method of class Audi.\n"
     ]
    }
   ],
   "source": [
    "class Car:          #parent class\n",
    "\n",
    "    def __init__(self, name, mileage):\n",
    "        self.name = name \n",
    "        self.mileage = mileage \n",
    "\n",
    "    def description(self):                \n",
    "        return f\"The {self.name} car gives the mileage of {self.mileage}km/l\"\n",
    "\n",
    "class BMW(Car):     #child class\n",
    "    pass\n",
    "\n",
    "class Audi(Car):     #child class\n",
    "    def audi_desc(self):\n",
    "        return \"This is the description method of class Audi.\"\n",
    "\n",
    "obj1 = BMW(\"BMW 7-series\",39.53)\n",
    "print(obj1.description())\n",
    "\n",
    "obj2 = Audi(\"Audi A8 L\",14)\n",
    "\n",
    "print(obj2.description())\n",
    "print(obj2.audi_desc())"
   ]
  },
  {
   "cell_type": "markdown",
   "metadata": {},
   "source": [
    "# Encapsulation\n",
    "\n",
    "Encapsulation, is a way to ensure security.\n",
    "\n",
    " Basically, it hides the data from the access of outsiders. \n",
    "\n",
    "You can declare the methods or the attributes protected by using a single underscore (_) before their names, such\n",
    "as _self.name \n",
    "or def _method( ); \n",
    "\n",
    "Both of these lines tell that the attribute and method are protected and should not be used outside the access of the class and sub-classes but can be accessed by class methods and objects.\n",
    "\n",
    "Though Python uses ‘ _ ‘ just as a coding convention, it tells that you should use these attributes/methods within the scope of the class. But you can still access the variables and methods which are defined as protected, as usual.\n",
    "\n",
    "Now to actually prevent the access of attributes/methods from outside the scope of a class, you can use “private members“. \n",
    "\n",
    "In order to declare the attributes/method as private members, use double underscore ( ) in the prefix. Such as _self.name or def __method(); Both of these lines tell that the attribute and method are private and access is not possible from outside the class."
   ]
  },
  {
   "cell_type": "code",
   "execution_count": 5,
   "metadata": {},
   "outputs": [
    {
     "name": "stdout",
     "output_type": "stream",
     "text": [
      "The BMW 7-series car gives the mileage of 39.53km/l\n",
      "BMW 7-series\n",
      "39.53\n"
     ]
    }
   ],
   "source": [
    "class car:\n",
    "    \n",
    "    def __init__(self, name, mileage):\n",
    "        self._name = name                #protected variable\n",
    "        self.mileage = mileage \n",
    "\n",
    "    def description(self):                \n",
    "        return f\"The {self._name} car gives the mileage of {self.mileage}km/l\"\n",
    "obj = car(\"BMW 7-series\",39.53)\n",
    "\n",
    "#accessing protected variable via class method \n",
    "print(obj.description())\n",
    "\n",
    "#accessing protected variable directly from outside\n",
    "print(obj._name)\n",
    "print(obj.mileage)"
   ]
  },
  {
   "cell_type": "markdown",
   "metadata": {},
   "source": [
    "**Notice how we accessed the protected variable without any error. It is clear that access to the variable is still public. Let us see how encapsulation works**"
   ]
  },
  {
   "cell_type": "code",
   "execution_count": 10,
   "metadata": {},
   "outputs": [
    {
     "name": "stdout",
     "output_type": "stream",
     "text": [
      "The BMW 7-series car gives the mileage of 39.53km/l\n",
      "39.53\n"
     ]
    },
    {
     "ename": "AttributeError",
     "evalue": "'Car' object has no attribute '__name'",
     "output_type": "error",
     "traceback": [
      "\u001b[1;31m---------------------------------------------------------------------------\u001b[0m",
      "\u001b[1;31mAttributeError\u001b[0m                            Traceback (most recent call last)",
      "Cell \u001b[1;32mIn[10], line 16\u001b[0m\n\u001b[0;32m     14\u001b[0m \u001b[38;5;66;03m# #accessing private variable directly from outside\u001b[39;00m\n\u001b[0;32m     15\u001b[0m \u001b[38;5;28mprint\u001b[39m(obj\u001b[38;5;241m.\u001b[39mmileage)\n\u001b[1;32m---> 16\u001b[0m \u001b[38;5;28mprint\u001b[39m(\u001b[43mobj\u001b[49m\u001b[38;5;241;43m.\u001b[39;49m\u001b[43m__name\u001b[49m)\n",
      "\u001b[1;31mAttributeError\u001b[0m: 'Car' object has no attribute '__name'"
     ]
    }
   ],
   "source": [
    "\n",
    "\n",
    "class Car:\n",
    "\n",
    "    def __init__(self, name, mileage):\n",
    "        self.__name = name              #private variable        \n",
    "        self.mileage = mileage \n",
    "\n",
    "    def description(self):                \n",
    "        return f\"The {self.__name} car gives the mileage of {self.mileage}km/l\"\n",
    "obj = Car(\"BMW 7-series\",39.53)\n",
    "\n",
    "#accessing private variable via class method \n",
    "print(obj.description())\n",
    "\n",
    "# #accessing private variable directly from outside\n",
    "print(obj.mileage)\n",
    "print(obj.__name)\n",
    "\n"
   ]
  },
  {
   "cell_type": "code",
   "execution_count": 5,
   "metadata": {},
   "outputs": [
    {
     "ename": "TypeError",
     "evalue": "Coordinate.__init__() takes 2 positional arguments but 3 were given",
     "output_type": "error",
     "traceback": [
      "\u001b[1;31m---------------------------------------------------------------------------\u001b[0m",
      "\u001b[1;31mTypeError\u001b[0m                                 Traceback (most recent call last)",
      "Cell \u001b[1;32mIn[5], line 10\u001b[0m\n\u001b[0;32m      7\u001b[0m         y_diff_sq \u001b[38;5;241m=\u001b[39m (\u001b[38;5;28mself\u001b[39m\u001b[38;5;241m.\u001b[39my\u001b[38;5;241m-\u001b[39mother\u001b[38;5;241m.\u001b[39mx)\u001b[38;5;241m*\u001b[39m\u001b[38;5;241m*\u001b[39m\u001b[38;5;241m2\u001b[39m \n\u001b[0;32m      8\u001b[0m         \u001b[38;5;28;01mreturn\u001b[39;00m (x_diff_sq \u001b[38;5;241m+\u001b[39m y_diff_sp)\u001b[38;5;241m*\u001b[39m\u001b[38;5;241m*\u001b[39m\u001b[38;5;241m0.5\u001b[39m\n\u001b[1;32m---> 10\u001b[0m point1 \u001b[38;5;241m=\u001b[39m \u001b[43mCoordinate\u001b[49m\u001b[43m(\u001b[49m\u001b[38;5;241;43m3\u001b[39;49m\u001b[43m,\u001b[49m\u001b[38;5;241;43m4\u001b[39;49m\u001b[43m)\u001b[49m\n\u001b[0;32m     11\u001b[0m point2 \u001b[38;5;241m=\u001b[39m Coordinate(\u001b[38;5;241m2\u001b[39m,\u001b[38;5;241m1\u001b[39m)\n\u001b[0;32m     12\u001b[0m \u001b[38;5;28mprint\u001b[39m(point1\u001b[38;5;241m.\u001b[39mdistance(point2))   \n",
      "\u001b[1;31mTypeError\u001b[0m: Coordinate.__init__() takes 2 positional arguments but 3 were given"
     ]
    }
   ],
   "source": [
    "class Coordinate():\n",
    "    def __init__(self, other):\n",
    "        self.x = X\n",
    "        self.y = y\n",
    "    def distance(self, other):\n",
    "        x_diff_sq = (self.x-other.x)**2\n",
    "        y_diff_sq = (self.y-other.x)**2 \n",
    "        return (x_diff_sq + y_diff_sp)**0.5\n",
    "\n",
    "point1 = Coordinate(3,4)\n",
    "point2 = Coordinate(2,1)\n",
    "print(point1.distance(point2))   \n",
    "print(Coordinate.distance(point1, point2))"
   ]
  },
  {
   "cell_type": "markdown",
   "metadata": {},
   "source": [
    "- CAR RENTAL"
   ]
  },
  {
   "cell_type": "markdown",
   "metadata": {},
   "source": [
    "- CarRental- \n",
    "Vehicle Class\n",
    "Write a class Vehicle. A Vehicle has an instance variable to store the color of the Vehicle. The color can be retrieved with the getColor() method. The toString() method returns a String like This vehicle is red, depending on the actual color.\n",
    "- Car Class\n",
    "Write a class Car that extends the class Vehicle. A car has an instance variable of type boolean to define whether it has winter tires or not (default value: false). The method toString() of the class Car prints the same message as the method of the class Vehicle, but it does also add another line with the content: has winter tires: true/false, depending on the actual value.\n",
    "- Truck Class\n",
    "Write a class Truck that extends the class Vehicle. A truck has an instance variable of type boolean to define whether it has a trailer or not (default value: false). The method toString() of the class Truck prints the same message as the method of the class Vehicle, but it does also add another line with the content: has trailer: true/false, depending on the actual value.\n",
    "- Garage Class\n",
    "Write a class Garage that has a Vehicle as an instance variable. This garage can be used by Cars and Trucks. Define a method setVehicle(Vehicle parked) to park a vehicle in the garage. Provide a method toString() to print a message Description of the parked vehicle ... followed by the description of the vehicle that is in the garage at this moment.\n",
    "- GarageTester Class\n",
    "Write a class GarageTester with a method getExample() (see template). In this method, create an object of the Truck class (color is black, and the truck has no trailer). Create an object of the Garage class. Put the Truck into the Garage.\n",
    "Customer Class\n",
    "Write a class Customer that contains a name and an address of a customer.\n"
   ]
  },
  {
   "cell_type": "code",
   "execution_count": 51,
   "metadata": {},
   "outputs": [
    {
     "name": "stdout",
     "output_type": "stream",
     "text": [
      "Vehicle color is red\n"
     ]
    }
   ],
   "source": [
    "#Car Rental\n",
    "# 1 Class vehichle\n",
    "class vehicle:\n",
    "    def __init__(self,color):\n",
    "        self.color = color\n",
    "    def get_color(self):\n",
    "        return self.color\n",
    "    def to_string(self):   #to_string method will return the color of the vehicle after calling self.color\n",
    "         return f\"Vehicle color is {self.color}\"\n",
    "       \n",
    "#The implemetation to check if it executes\n",
    "Vehicle_one = vehicle(\"red\")\n",
    "print(Vehicle_one.to_string())  \n"
   ]
  },
  {
   "cell_type": "code",
   "execution_count": 64,
   "metadata": {},
   "outputs": [
    {
     "name": "stdout",
     "output_type": "stream",
     "text": [
      " Vehicle color is blue \n",
      " Vehicle has winter tires:True \n"
     ]
    }
   ],
   "source": [
    "# 2 class Car\n",
    "class Car (vehicle):\n",
    "    def __init__(self, color, winter_tires=False):\n",
    "        self.winter_tires = winter_tires\n",
    "        super().__init__(color)   #calling the constructor of the parent class (vehicle) which is\" __init__(color)\" to set the color\n",
    "    def to_string (self):\n",
    "        # vehicle_color = super().to_string()\n",
    "        # winter_tire_info = f\"vehicle has winter tires: {self.winter_tires}\"\n",
    "        # return f\"{vehicle_color}\\n{winter_tire_info}\"  is one way of doing it but beacuse i want to use less lines of code\n",
    "        return f\" {super().to_string()} \\n Vehicle has winter tires:{self.winter_tires} \"\n",
    "    \n",
    "#The implemetation to check if it executes\n",
    "car1 = Car(\"blue\", True)\n",
    "print(car1.to_string())\n",
    "        "
   ]
  },
  {
   "cell_type": "code",
   "execution_count": 71,
   "metadata": {},
   "outputs": [
    {
     "name": "stdout",
     "output_type": "stream",
     "text": [
      " Vehicle color is red\n",
      " Truck has a trailer: False\n"
     ]
    }
   ],
   "source": [
    "#class truck\n",
    "class Truck(vehicle):\n",
    "    def __init__(self,color, trailer=False):\n",
    "        super().__init__(color)\n",
    "        self.trailer = trailer\n",
    "    def to_string(self):\n",
    "        return f\" {super().to_string()}\\n Truck has a trailer: {self.trailer}\"\n",
    "# tThe implementation\n",
    "truck1 = Truck(\"red\", )\n",
    "print(truck1.to_string())    \n",
    "    "
   ]
  },
  {
   "cell_type": "code",
   "execution_count": 88,
   "metadata": {},
   "outputs": [
    {
     "ename": "AttributeError",
     "evalue": "'Garage' object has no attribute 'parked_vehicle'",
     "output_type": "error",
     "traceback": [
      "\u001b[1;31m---------------------------------------------------------------------------\u001b[0m",
      "\u001b[1;31mAttributeError\u001b[0m                            Traceback (most recent call last)",
      "Cell \u001b[1;32mIn[88], line 18\u001b[0m\n\u001b[0;32m     16\u001b[0m car1 \u001b[38;5;241m=\u001b[39m Car(\u001b[38;5;124m\"\u001b[39m\u001b[38;5;124mblue\u001b[39m\u001b[38;5;124m\"\u001b[39m, \u001b[38;5;28;01mTrue\u001b[39;00m)\n\u001b[0;32m     17\u001b[0m garage\u001b[38;5;241m.\u001b[39mset_vehicle(car1)\n\u001b[1;32m---> 18\u001b[0m \u001b[38;5;28mprint\u001b[39m(\u001b[43mgarage\u001b[49m\u001b[38;5;241;43m.\u001b[39;49m\u001b[43mto_string\u001b[49m\u001b[43m(\u001b[49m\u001b[43m)\u001b[49m)\n\u001b[0;32m     20\u001b[0m truck1 \u001b[38;5;241m=\u001b[39m Truck(\u001b[38;5;124m\"\u001b[39m\u001b[38;5;124mred\u001b[39m\u001b[38;5;124m\"\u001b[39m, \u001b[38;5;28;01mTrue\u001b[39;00m)\n\u001b[0;32m     21\u001b[0m garage\u001b[38;5;241m.\u001b[39mset_vehicle(truck1)\n",
      "Cell \u001b[1;32mIn[88], line 10\u001b[0m, in \u001b[0;36mGarage.to_string\u001b[1;34m(self)\u001b[0m\n\u001b[0;32m      9\u001b[0m \u001b[38;5;28;01mdef\u001b[39;00m \u001b[38;5;21mto_string\u001b[39m(\u001b[38;5;28mself\u001b[39m):\n\u001b[1;32m---> 10\u001b[0m     \u001b[38;5;28;01mif\u001b[39;00m \u001b[38;5;28;43mself\u001b[39;49m\u001b[38;5;241;43m.\u001b[39;49m\u001b[43mparked_vehicle\u001b[49m \u001b[38;5;129;01mis\u001b[39;00m \u001b[38;5;28;01mNone\u001b[39;00m:\n\u001b[0;32m     11\u001b[0m         \u001b[38;5;28;01mreturn\u001b[39;00m \u001b[38;5;124m\"\u001b[39m\u001b[38;5;124mGarage is empty\u001b[39m\u001b[38;5;124m\"\u001b[39m\n\u001b[0;32m     12\u001b[0m     \u001b[38;5;28;01melse\u001b[39;00m:\n",
      "\u001b[1;31mAttributeError\u001b[0m: 'Garage' object has no attribute 'parked_vehicle'"
     ]
    }
   ],
   "source": [
    "#3 class Garage\n",
    "class Garage:\n",
    "    def __init__(self):\n",
    "        self.vehicle_parked  = None\n",
    "    def set_vehicle(self, vehicle):\n",
    "        if not isinstance(vehicle, Vehicle):\n",
    "            raise ValueError(\"Only Vehicle can be parked in the garage\")\n",
    "        self.vehicle_parked = vehicle\n",
    "    def to_string(self):\n",
    "        if self.parked_vehicle is None:\n",
    "            return \"Garage is empty\"\n",
    "        else:\n",
    "            return f\"Garage is occupied by: \\n {self.vehicle_parked.to_string()}\"\n",
    "\n",
    "garage = Garage()\n",
    "car1 = Car(\"blue\", True)\n",
    "garage.set_vehicle(car1)\n",
    "print(garage.to_string())\n",
    "\n",
    "truck1 = Truck(\"red\", True)\n",
    "garage.set_vehicle(truck1)\n",
    "print(garage.to_string())"
   ]
  },
  {
   "cell_type": "code",
   "execution_count": 86,
   "metadata": {},
   "outputs": [
    {
     "name": "stdout",
     "output_type": "stream",
     "text": [
      "Garage is occupied by:\n",
      "Vehicle color is blue\n",
      "Vehicle has winter tires: True\n",
      "Garage is occupied by:\n",
      "Vehicle color is red\n",
      "Truck has a trailer: True\n"
     ]
    }
   ],
   "source": [
    "# class Vehicle:\n",
    "#     def __init__(self, color):\n",
    "#         self.color = color\n",
    "\n",
    "#     def get_color(self):\n",
    "#         return self.color\n",
    "\n",
    "#     def to_string(self):\n",
    "#         return f\"Vehicle color is {self.color}\"\n",
    "\n",
    "\n",
    "# class Car(Vehicle):\n",
    "#     def __init__(self, color, winter_tires=False):\n",
    "#         super().__init__(color)  # Call the constructor of the parent class (Vehicle)\n",
    "#         self.winter_tires = winter_tires\n",
    "\n",
    "#     def to_string(self):\n",
    "#         return f\"{super().to_string()}\\nVehicle has winter tires: {self.winter_tires}\"\n",
    "\n",
    "\n",
    "# class Truck(Vehicle):\n",
    "#     def __init__(self, color, trailer=False):\n",
    "#         super().__init__(color)  # Call the constructor of the parent class (Vehicle)\n",
    "#         self.trailer = trailer\n",
    "\n",
    "#     def to_string(self):\n",
    "#         return f\"{super().to_string()}\\nTruck has a trailer: {self.trailer}\"\n",
    "\n",
    "\n",
    "class Garage:\n",
    "    def __init__(self):\n",
    "        self.vehicle_parked = None  # Initialize to None to indicate no vehicle is parked\n",
    "\n",
    "    def set_vehicle(self, vehicle):\n",
    "        if not isinstance(vehicle, Vehicle):\n",
    "            raise ValueError(\"Only Vehicle instances can be parked in the garage\")\n",
    "        self.vehicle_parked = vehicle  # Set the parked vehicle\n",
    "\n",
    "    def to_string(self):\n",
    "        if self.vehicle_parked is None:  # Check if no vehicle is parked\n",
    "            return \"Garage is empty\"\n",
    "        else:\n",
    "            return f\"Garage is occupied by:\\n{self.vehicle_parked.to_string()}\"  # Return the description of the parked vehicle\n",
    "\n",
    "\n",
    "# Example usage\n",
    "garage = Garage()\n",
    "\n",
    "# Create a Car and park it in the garage\n",
    "car1 = Car(\"blue\", True)\n",
    "garage.set_vehicle(car1)\n",
    "print(garage.to_string())\n",
    "\n",
    "# Create a Truck and park it in the garage\n",
    "truck1 = Truck(\"red\", True)\n",
    "garage.set_vehicle(truck1)\n",
    "print(garage.to_string())"
   ]
  }
 ],
 "metadata": {
  "kernelspec": {
   "display_name": "Python 3",
   "language": "python",
   "name": "python3"
  },
  "language_info": {
   "codemirror_mode": {
    "name": "ipython",
    "version": 3
   },
   "file_extension": ".py",
   "mimetype": "text/x-python",
   "name": "python",
   "nbconvert_exporter": "python",
   "pygments_lexer": "ipython3",
   "version": "3.12.3"
  }
 },
 "nbformat": 4,
 "nbformat_minor": 2
}
