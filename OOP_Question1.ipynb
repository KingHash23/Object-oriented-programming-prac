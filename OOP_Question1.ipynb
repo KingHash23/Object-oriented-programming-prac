{
 "cells": [
  {
   "cell_type": "markdown",
   "metadata": {},
   "source": [
    "#  OOP TEST Question 1\n",
    "- By OBBA MARK CALVIN  B24277    S23B23\\047"
   ]
  },
  {
   "cell_type": "code",
   "execution_count": 7,
   "metadata": {},
   "outputs": [],
   "source": [
    "# Creating Character class\n",
    "class Character:\n",
    "    def __init__(self, name, health, position):\n",
    "        self.__name = name       # Private attribute for encapsulation\n",
    "        self.__health = health\n",
    "        self.__position = position\n",
    "        self.__in_vehicle = None  # Tracks if the character is in a vehicle\n",
    "\n",
    "    def move(self, new_position):  # Method to move the character\n",
    "        if self.__in_vehicle:\n",
    "            print(f\"{self.__name} cannot move independently while in a vehicle!\")\n",
    "        else:\n",
    "            self.__position = new_position\n",
    "            print(f\"{self.__name} moved to position {self.__position}.\")\n",
    "\n",
    "    def attack(self, target):      # Method for the character to attack\n",
    "        print(f\"{self.__name} attacks {target}!\")\n",
    "\n",
    "    def interact(self, item):      # Method for interaction (e.g., interacting with objects or other characters)\n",
    "        print(f\"{self.__name} interacts with {item}.\")\n",
    "\n",
    "    def get_name(self):            # Getter for name (demonstrating encapsulation)\n",
    "        return self.__name\n",
    "\n",
    "# Creating Vehicle class\n",
    "class Vehicle:\n",
    "    def __init__(self, vehicle_type, speed, fuel_level):\n",
    "        self.__type = vehicle_type       # Private attribute for encapsulation\n",
    "        self.__speed = speed\n",
    "        self.__fuel_level = fuel_level\n",
    "\n",
    "    def drive(self, distance):           # Method to drive the vehicle\n",
    "        fuel_needed = distance // 10\n",
    "        if self.__fuel_level >= fuel_needed:\n",
    "            self.__fuel_level -= fuel_needed\n",
    "            print(f\"{self.__type} drove {distance} units. Remaining fuel: {self.__fuel_level}.\")\n",
    "        else:\n",
    "            print(f\"Not enough fuel to drive {distance} units. Please refuel.\")\n",
    "\n",
    "    def refuel(self, amount):            # Method to refuel the vehicle\n",
    "        self.__fuel_level += amount\n",
    "        print(f\"{self.__type} refueled. Current fuel level: {self.__fuel_level}.\")\n",
    "\n",
    "    def stop(self):                      # Method to stop the vehicle\n",
    "        print(f\"{self.__type} has stopped.\")\n",
    "\n",
    "    def get_type(self):  # Getter for vehicle type\n",
    "        return self.__type\n"
   ]
  },
  {
   "cell_type": "code",
   "execution_count": 8,
   "metadata": {},
   "outputs": [],
   "source": [
    "#  B: Creating a subclass CharacterInteractingWithVehicle that inherits Character\n",
    "class CharacterInteractingWithVehicle(Character):\n",
    "    def __init__(self, name, health, position):\n",
    "        super().__init__(name, health, position)\n",
    "        self.__in_vehicle = None  # Tracks if the character is in a vehicle\n",
    "\n",
    "    def get_in(self, vehicle):     # Method for interacting with a vehicle\n",
    "        if self.__in_vehicle:\n",
    "            print(f\"{self.get_name()} is already in a vehicle!\")\n",
    "        else:\n",
    "            self.__in_vehicle = vehicle\n",
    "            print(f\"{self.get_name()} got into the {vehicle.get_type()}.\")\n",
    "\n",
    "    def get_out(self):\n",
    "        if self.__in_vehicle:\n",
    "            print(f\"{self.get_name()} got out of the {self.__in_vehicle.get_type()}.\")\n",
    "            self.__in_vehicle = None\n",
    "        else:\n",
    "            print(f\"{self.get_name()} is not in a vehicle!\")\n",
    "\n",
    "    def drive_vehicle(self, distance):\n",
    "        if self.__in_vehicle:\n",
    "            self.__in_vehicle.drive(distance)\n",
    "        else:\n",
    "            print(f\"{self.get_name()} is not in a vehicle to drive!\")\n"
   ]
  },
  {
   "cell_type": "code",
   "execution_count": 9,
   "metadata": {},
   "outputs": [],
   "source": [
    "# C. Specialized Character Abilities using Inheritance\n",
    "class HeroCharacter(Character):\n",
    "    def __init__(self, name, health, position, power_level):\n",
    "        super().__init__(name, health, position)\n",
    "        self.__power_level = power_level\n",
    "\n",
    "    def double_jump(self):                  # Special ability: double jump\n",
    "        print(f\"{self.get_name()} performed a double jump!\")\n",
    "    \n",
    "    def fast_run(self):                     # Special ability: fast run\n",
    "        print(f\"{self.get_name()} is running at super speed!\")\n",
    "    \n",
    "    def instant_healing(self):              # Special ability: instant healing\n",
    "        print(f\"{self.get_name()} is healed in 1ms!\")\n",
    "        \n",
    "    def unlimited_weapons(self):            # Special ability: unlimited weapons\n",
    "        print(f\"{self.get_name()} has unlimited weapons!\")\n"
   ]
  },
  {
   "cell_type": "code",
   "execution_count": 10,
   "metadata": {},
   "outputs": [
    {
     "name": "stdout",
     "output_type": "stream",
     "text": [
      "Calvin moved to position (10, 10).\n",
      "AwesomeCalvin moved to position (10, 10).\n",
      "AwesomeCalvin performed a double jump!\n"
     ]
    }
   ],
   "source": [
    "# D. Handling Different Types of Objects (Polymorphism)\n",
    "# Example of polymorphism in character interactions\n",
    "characters = [Character(\"Calvin\", 100, (0, 0)), HeroCharacter(\"AwesomeCalvin\", 120, (0, 0), 80)]\n",
    "for char in characters:\n",
    "    char.move((10, 10))  # Both Character and HeroCharacter can use move()\n",
    "    if isinstance(char, HeroCharacter):\n",
    "        char.double_jump()  # Only HeroCharacter can double jump\n"
   ]
  },
  {
   "cell_type": "code",
   "execution_count": 11,
   "metadata": {},
   "outputs": [],
   "source": [
    "# E. Simple Game Scenario\n",
    "def mission_scenario():\n",
    "    # Create a CharacterInteractingWithVehicle and a Vehicle\n",
    "    character = CharacterInteractingWithVehicle(\"Calvin\", 100, (0, 0))\n",
    "    car = Vehicle(\"Car\", 150, 80)\n",
    "    character.move((10, 15))                # Character moves to a new position\n",
    "    character.get_in(car)                   # Character gets into the car\n",
    "    character.drive_vehicle(50)             # Character tries to drive the car\n",
    "    character.get_out()                     # Character encounters an obstacle and gets out of the car\n",
    "    character.attack(\"enemy\")               # Character attacks an enemy\n",
    "    character.move((60, 56))                # Character completes the mission by moving to the final position \n",
    "    print(\"Mission Accomplished!\")\n",
    "    "
   ]
  },
  {
   "cell_type": "code",
   "execution_count": 12,
   "metadata": {},
   "outputs": [
    {
     "name": "stdout",
     "output_type": "stream",
     "text": [
      "###### Character and Vehicle Demonstration ######\n",
      "Calvin moved to position (10, 15).\n",
      "Calvin attacks enemy!\n",
      "Calvin interacts with Dodge Demon SRT HELLCAT WIDEBODY.\n",
      "Car drove 30 units. Remaining fuel: 47.\n",
      "Car refueled. Current fuel level: 81.\n",
      "Car has stopped.\n",
      "\n",
      "###### Vehicle Interaction Demonstration (Part b) ######\n",
      "Calvin got into the Car.\n",
      "Car drove 50 units. Remaining fuel: 76.\n",
      "Calvin got out of the Car.\n",
      "\n",
      "###### Specialized Abilities Demonstration ######\n",
      "AwesomeCalvin is healed in 1ms!\n",
      "AwesomeCalvin performed a double jump!\n",
      "AwesomeCalvin has unlimited weapons!\n",
      "AwesomeCalvin is running at super speed!\n",
      "\n",
      "###### Mission Scenario ######\n",
      "Calvin moved to position (10, 15).\n",
      "Calvin got into the Car.\n",
      "Car drove 50 units. Remaining fuel: 75.\n",
      "Calvin got out of the Car.\n",
      "Calvin attacks enemy!\n",
      "Calvin moved to position (60, 56).\n",
      "Mission Accomplished!\n"
     ]
    }
   ],
   "source": [
    "# Demonstrations\n",
    "print(\"###### Character and Vehicle Demonstration ######\")\n",
    "character = Character(\"Calvin\", 100, (0, 0))\n",
    "vehicle = Vehicle(\"Car\", 120, 50)\n",
    "character.move((10, 15))\n",
    "character.attack(\"enemy\")\n",
    "character.interact(\"Dodge Demon SRT HELLCAT WIDEBODY\")\n",
    "vehicle.drive(30)\n",
    "vehicle.refuel(34)\n",
    "vehicle.stop()\n",
    "\n",
    "print(\"\\n###### Vehicle Interaction Demonstration (Part b) ######\")\n",
    "character_with_vehicle = CharacterInteractingWithVehicle(\"Calvin\", 100, (0, 0))\n",
    "character_with_vehicle.get_in(vehicle)\n",
    "character_with_vehicle.drive_vehicle(50)\n",
    "character_with_vehicle.get_out()\n",
    "\n",
    "print(\"\\n###### Specialized Abilities Demonstration ######\")\n",
    "hero = HeroCharacter(\"AwesomeCalvin\", 120, (0, 0), 80)\n",
    "hero.instant_healing()\n",
    "hero.double_jump()\n",
    "hero.unlimited_weapons()\n",
    "hero.fast_run()\n",
    "\n",
    "print(\"\\n###### Mission Scenario ######\")\n",
    "mission_scenario()"
   ]
  }
 ],
 "metadata": {
  "kernelspec": {
   "display_name": "Python 3",
   "language": "python",
   "name": "python3"
  },
  "language_info": {
   "codemirror_mode": {
    "name": "ipython",
    "version": 3
   },
   "file_extension": ".py",
   "mimetype": "text/x-python",
   "name": "python",
   "nbconvert_exporter": "python",
   "pygments_lexer": "ipython3",
   "version": "3.12.3"
  }
 },
 "nbformat": 4,
 "nbformat_minor": 2
}
